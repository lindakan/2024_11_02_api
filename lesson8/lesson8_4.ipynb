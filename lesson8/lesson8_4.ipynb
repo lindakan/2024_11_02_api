{
 "cells": [
  {
   "cell_type": "code",
   "execution_count": 6,
   "metadata": {},
   "outputs": [
    {
     "name": "stderr",
     "output_type": "stream",
     "text": [
      "2024-12-21 06:08:02.358 Thread 'MainThread': missing ScriptRunContext! This warning can be ignored when running in bare mode.\n",
      "2024-12-21 06:08:02.360 Thread 'MainThread': missing ScriptRunContext! This warning can be ignored when running in bare mode.\n",
      "2024-12-21 06:08:02.361 Thread 'MainThread': missing ScriptRunContext! This warning can be ignored when running in bare mode.\n",
      "2024-12-21 06:08:02.366 Thread 'MainThread': missing ScriptRunContext! This warning can be ignored when running in bare mode.\n",
      "2024-12-21 06:08:02.368 Thread 'MainThread': missing ScriptRunContext! This warning can be ignored when running in bare mode.\n"
     ]
    },
    {
     "data": {
      "text/plain": [
       "['永和區',\n",
       " '三重區',\n",
       " '五股區',\n",
       " '萬里區',\n",
       " '新店區',\n",
       " '金山區',\n",
       " '三芝區',\n",
       " '板橋區',\n",
       " '土城區',\n",
       " '石門區',\n",
       " '深坑區',\n",
       " '汐止區',\n",
       " '坪林區',\n",
       " '瑞芳區',\n",
       " '淡水區',\n",
       " '中和區',\n",
       " '林口區',\n",
       " '八里區',\n",
       " '石碇區',\n",
       " '平溪區',\n",
       " '三峽區',\n",
       " '泰山區']"
      ]
     },
     "execution_count": 6,
     "metadata": {},
     "output_type": "execute_result"
    }
   ],
   "source": [
    "from tools import fetch_youbike_data\n",
    "import pandas as pd\n",
    "youbike_data:list[dict] = fetch_youbike_data()\n",
    "def map_func(value:dict)->str:\n",
    "   return value['sarea'] \n",
    "\n",
    "duplicate_map = map(map_func,youbike_data)\n",
    "unique_map = set(duplicate_map)\n",
    "area_list = list(unique_map)\n",
    "area_list\n",
    "\n"
   ]
  },
  {
   "cell_type": "code",
   "execution_count": 2,
   "metadata": {},
   "outputs": [
    {
     "name": "stderr",
     "output_type": "stream",
     "text": [
      "2024-12-21 06:01:59.008 Thread 'MainThread': missing ScriptRunContext! This warning can be ignored when running in bare mode.\n",
      "2024-12-21 06:01:59.009 Thread 'MainThread': missing ScriptRunContext! This warning can be ignored when running in bare mode.\n",
      "2024-12-21 06:01:59.010 Thread 'MainThread': missing ScriptRunContext! This warning can be ignored when running in bare mode.\n",
      "2024-12-21 06:01:59.019 Thread 'MainThread': missing ScriptRunContext! This warning can be ignored when running in bare mode.\n",
      "2024-12-21 06:01:59.020 Thread 'MainThread': missing ScriptRunContext! This warning can be ignored when running in bare mode.\n"
     ]
    },
    {
     "data": {
      "text/plain": [
       "['永和區',\n",
       " '三重區',\n",
       " '五股區',\n",
       " '萬里區',\n",
       " '新店區',\n",
       " '金山區',\n",
       " '三芝區',\n",
       " '板橋區',\n",
       " '土城區',\n",
       " '石門區',\n",
       " '深坑區',\n",
       " '汐止區',\n",
       " '坪林區',\n",
       " '瑞芳區',\n",
       " '淡水區',\n",
       " '中和區',\n",
       " '林口區',\n",
       " '八里區',\n",
       " '石碇區',\n",
       " '平溪區',\n",
       " '三峽區',\n",
       " '泰山區']"
      ]
     },
     "execution_count": 2,
     "metadata": {},
     "output_type": "execute_result"
    }
   ],
   "source": [
    "from tools import fetch_youbike_data\n",
    "import pandas as pd\n",
    "youbike_data:list[dict] = fetch_youbike_data()\n",
    "\n",
    "area_list = list(set(map(lambda value:value['sarea'],youbike_data)))\n",
    "area_list"
   ]
  }
 ],
 "metadata": {
  "kernelspec": {
   "display_name": "base",
   "language": "python",
   "name": "python3"
  },
  "language_info": {
   "codemirror_mode": {
    "name": "ipython",
    "version": 3
   },
   "file_extension": ".py",
   "mimetype": "text/x-python",
   "name": "python",
   "nbconvert_exporter": "python",
   "pygments_lexer": "ipython3",
   "version": "3.12.2"
  }
 },
 "nbformat": 4,
 "nbformat_minor": 2
}
