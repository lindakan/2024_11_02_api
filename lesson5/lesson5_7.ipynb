{
 "cells": [
  {
   "cell_type": "code",
   "execution_count": 4,
   "metadata": {},
   "outputs": [
    {
     "name": "stdout",
     "output_type": "stream",
     "text": [
      "大樂透選號結果:\n",
      "主號碼: [3, 7, 23, 32, 41, 44, 49]\n",
      "特別號: 26\n"
     ]
    }
   ],
   "source": [
    "import random\n",
    "\n",
    "def generate_lotto_numbers():\n",
    "    main_numbers = set()\n",
    "    while len(main_numbers) < 7:\n",
    "        main_numbers.add(random.randint(1, 49))\n",
    "\n",
    "    main_numbers = sorted(list(main_numbers))\n",
    "    \n",
    "    special_number = random.randint(1, 49)\n",
    "    \n",
    "    while special_number in main_numbers:\n",
    "        special_number = random.randint(1, 49)\n",
    "\n",
    "    lotto_result = {\"主號碼\": main_numbers, \"特別號\": special_number}\n",
    "    return lotto_result\n",
    "\n",
    "def main():\n",
    "    lotto_result = generate_lotto_numbers()\n",
    "    print(\"大樂透選號結果:\")\n",
    "    print(\"主號碼:\", lotto_result[\"主號碼\"])\n",
    "    print(\"特別號:\", lotto_result[\"特別號\"])\n",
    "    \n",
    "if __name__ == \"__main__\":\n",
    "    main() "
   ]
  }
 ],
 "metadata": {
  "kernelspec": {
   "display_name": "base",
   "language": "python",
   "name": "python3"
  },
  "language_info": {
   "codemirror_mode": {
    "name": "ipython",
    "version": 3
   },
   "file_extension": ".py",
   "mimetype": "text/x-python",
   "name": "python",
   "nbconvert_exporter": "python",
   "pygments_lexer": "ipython3",
   "version": "3.12.2"
  }
 },
 "nbformat": 4,
 "nbformat_minor": 2
}
