{
 "cells": [
  {
   "cell_type": "code",
   "execution_count": 1,
   "metadata": {},
   "outputs": [
    {
     "data": {
      "text/plain": [
       "[127, 100, 91, 85, 10, 1]"
      ]
     },
     "execution_count": 1,
     "metadata": {},
     "output_type": "execute_result"
    }
   ],
   "source": [
    "numbers:list[int] = [1, 10, 100, 127, 91, 85]\n",
    "numbers\n",
    "[1, 10, 100, 127, 91, 85]\n",
    "#list實體方法\n",
    "numbers.append(35)\n",
    "numbers\n",
    "[1, 10, 100, 127, 91, 85, 35, 35, 35]\n",
    "numbers.pop()\n",
    "numbers\n",
    "[1, 10, 100, 127, 91, 85]\n",
    "numbers.sort() #ascending\n",
    "numbers\n",
    "[1, 10, 85, 91, 100, 127]\n",
    "numbers.sort(reverse=True) #desending\n",
    "numbers\n",
    "[127, 100, 91, 85, 10, 1]\n",
    "numbers\n",
    "[127, 100, 91, 85, 10, 1]\n",
    "sorted(numbers)\n",
    "[1, 10, 85, 91, 100, 127]\n",
    "numbers\n",
    "[127, 100, 91, 85, 10, 1]"
   ]
  }
 ],
 "metadata": {
  "kernelspec": {
   "display_name": "base",
   "language": "python",
   "name": "python3"
  },
  "language_info": {
   "codemirror_mode": {
    "name": "ipython",
    "version": 3
   },
   "file_extension": ".py",
   "mimetype": "text/x-python",
   "name": "python",
   "nbconvert_exporter": "python",
   "pygments_lexer": "ipython3",
   "version": "3.12.2"
  }
 },
 "nbformat": 4,
 "nbformat_minor": 2
}
