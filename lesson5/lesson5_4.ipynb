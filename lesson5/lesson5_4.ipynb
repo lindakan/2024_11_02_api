{
 "cells": [
  {
   "cell_type": "code",
   "execution_count": 1,
   "metadata": {},
   "outputs": [
    {
     "data": {
      "text/plain": [
       "[{'name': 'Cherry', 'price': 30},\n",
       " {'name': 'Apple', 'price': 20},\n",
       " {'name': 'Banana', 'price': 10}]"
      ]
     },
     "execution_count": 1,
     "metadata": {},
     "output_type": "execute_result"
    }
   ],
   "source": [
    "\n",
    "items:list[dict] = [\n",
    "    {\"name\":\"Apple\",\"price\":20},\n",
    "    {\"name\":\"Banana\",\"price\":10},\n",
    "    {\"name\":\"Cherry\",\"price\":30}\n",
    "]\n",
    "sorted(items,key=lambda x:x['price'],reverse=True)\n"
   ]
  },
  {
   "cell_type": "code",
   "execution_count": 2,
   "metadata": {},
   "outputs": [
    {
     "name": "stdout",
     "output_type": "stream",
     "text": [
      "name\n",
      "price\n",
      "name\n",
      "price\n",
      "Apple\n",
      "20\n",
      "name\n",
      "Apple\n",
      "========\n",
      "price\n",
      "20\n",
      "========\n"
     ]
    }
   ],
   "source": [
    "items:list[dict] = [\n",
    "    {\"name\":\"Apple\",\"price\":20},\n",
    "    {\"name\":\"Banana\",\"price\":10},\n",
    "    {\"name\":\"Cherry\",\"price\":30}\n",
    "]\n",
    "sorted(items,key=lambda x:x['price'],reverse=True)\n",
    "[{'name': 'Cherry', 'price': 30},\n",
    " {'name': 'Apple', 'price': 20},\n",
    " {'name': 'Banana', 'price': 10}]\n",
    "name, age, height, weight = 'robert', 35, 180, 80\n",
    "name, age, height, weight\n",
    "('robert', 35, 180, 80)\n",
    "for key in {\"name\":\"Apple\",\"price\":20}:\n",
    "    print(key)\n",
    "name\n",
    "\n",
    "for key in {\"name\":\"Apple\",\"price\":20}.keys():\n",
    "    print(key)\n",
    "\n",
    "\n",
    "for value in {\"name\": \"Apple\", \"price\": 20}.values():\n",
    "    print(value)\n",
    "\n",
    "for key,value in {\"name\": \"Apple\", \"price\": 20}.items():\n",
    "    print(key)\n",
    "    print(value)\n",
    "    print(\"========\")"
   ]
  }
 ],
 "metadata": {
  "kernelspec": {
   "display_name": "base",
   "language": "python",
   "name": "python3"
  },
  "language_info": {
   "codemirror_mode": {
    "name": "ipython",
    "version": 3
   },
   "file_extension": ".py",
   "mimetype": "text/x-python",
   "name": "python",
   "nbconvert_exporter": "python",
   "pygments_lexer": "ipython3",
   "version": "3.12.2"
  }
 },
 "nbformat": 4,
 "nbformat_minor": 2
}
