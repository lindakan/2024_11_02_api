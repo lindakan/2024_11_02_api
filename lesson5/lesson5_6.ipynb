{
 "cells": [
  {
   "cell_type": "code",
   "execution_count": null,
   "metadata": {},
   "outputs": [],
   "source": [
    "import random\n",
    "\n",
    "class Lotto:\n",
    "    def __init__(self,nums:int):\n",
    "        # attribute\n",
    "        self.nums = nums\n",
    "       # instance method\n",
    "    def output_LottoNums(self,nums:int)->dict:\n",
    "         \n",
    "         lottonums:dict = {nums[7]}\n",
    "         for x in range(1,8):\n",
    "            random.randint(1, 49)\n",
    "        \n",
    "        return list\n",
    "    \n",
    "    def get_BMI(self)->float:\n",
    "        return round(self.weight / ((self.height/100)**2), 2)\n",
    "        \n"
   ]
  }
 ],
 "metadata": {
  "kernelspec": {
   "display_name": "base",
   "language": "python",
   "name": "python3"
  },
  "language_info": {
   "name": "python",
   "version": "3.12.2"
  }
 },
 "nbformat": 4,
 "nbformat_minor": 2
}
