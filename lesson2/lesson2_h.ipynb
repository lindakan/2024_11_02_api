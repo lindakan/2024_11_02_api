{
 "cells": [
  {
   "cell_type": "code",
   "execution_count": null,
   "metadata": {},
   "outputs": [
    {
     "name": "stdout",
     "output_type": "stream",
     "text": [
      "您的身高為：162.5 公分\n",
      "您的體重為：50.0 公斤\n",
      "您的BMI是:18.93491124260355\n",
      "健康狀態為正常\n"
     ]
    }
   ],
   "source": [
    "try:\n",
    "    heigh = float(input(\"請輸入身高(cm):\"))\n",
    "    weight = float(input(\"請輸入體重(kg):\"))\n",
    "    heigh_m = heigh / 100\n",
    "    bmi = weight / heigh_m **2\n",
    "except Exception:\n",
    "     print('發生錯誤')\n",
    "else:\n",
    "    print(f'您的身高為：{heigh} 公分')\n",
    "    print(f'您的體重為：{weight} 公斤')\n",
    "    print(f\"您的BMI是:{bmi}\")\n",
    "    if bmi >= 35 :\n",
    "        print(f\"健康狀態為重度肥胖\")\n",
    "    elif bmi >= 30 :\n",
    "        print(f\"健康狀態為中度肥胖\")\n",
    "    elif bmi >= 27 :\n",
    "        print(f\"健康狀態為輕度肥胖\")\n",
    "    elif bmi >=24 :\n",
    "        print(f\"健康狀態為過重\")  \n",
    "    elif bmi >=18.5 :       \n",
    "        print(f\"健康狀態為正常\")      \n",
    "    else:\n",
    "        print(f\"健康狀態為體重過輕\")  \n",
    "\n"
   ]
  },
  {
   "cell_type": "code",
   "execution_count": null,
   "metadata": {},
   "outputs": [],
   "source": []
  }
 ],
 "metadata": {
  "kernelspec": {
   "display_name": "base",
   "language": "python",
   "name": "python3"
  },
  "language_info": {
   "codemirror_mode": {
    "name": "ipython",
    "version": 3
   },
   "file_extension": ".py",
   "mimetype": "text/x-python",
   "name": "python",
   "nbconvert_exporter": "python",
   "pygments_lexer": "ipython3",
   "version": "3.12.3"
  }
 },
 "nbformat": 4,
 "nbformat_minor": 2
}
