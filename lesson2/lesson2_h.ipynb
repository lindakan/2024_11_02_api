{
 "cells": [
  {
   "cell_type": "code",
   "execution_count": 5,
   "metadata": {},
   "outputs": [
    {
     "name": "stdout",
     "output_type": "stream",
     "text": [
      "過重\n",
      "您的BMI是:25.390624999999996\n",
      "您的體重:65\n"
     ]
    }
   ],
   "source": [
    "try:\n",
    "    heigh = int(input(\"請輸入身高(cm):\"))\n",
    "    weight = int(input(\"請輸入體重(kg):\"))\n",
    "    heigh_m = heigh / 100\n",
    "    bmi = weight / heigh_m **2\n",
    "except Exception:\n",
    "     print('發生錯誤')\n",
    "else:\n",
    "    if bmi >= 35 :\n",
    "        print(f\"重度肥胖\")\n",
    "    elif bmi >= 30 :\n",
    "        print(f\"中度肥胖\")\n",
    "    elif bmi >= 27 :\n",
    "        print(f\"輕度肥胖\")\n",
    "    elif bmi >=24 :\n",
    "        print(f\"過重\")  \n",
    "    elif bmi >=18.5 :       \n",
    "        print(f\"正常\")      \n",
    "    else:\n",
    "        print(f\"體重過輕\")  \n",
    "\n",
    "    print(f\"您的BMI是:{bmi}\")\n",
    "    print(f\"您的體重:{weight}\")"
   ]
  },
  {
   "cell_type": "code",
   "execution_count": null,
   "metadata": {},
   "outputs": [],
   "source": []
  }
 ],
 "metadata": {
  "kernelspec": {
   "display_name": "base",
   "language": "python",
   "name": "python3"
  },
  "language_info": {
   "codemirror_mode": {
    "name": "ipython",
    "version": 3
   },
   "file_extension": ".py",
   "mimetype": "text/x-python",
   "name": "python",
   "nbconvert_exporter": "python",
   "pygments_lexer": "ipython3",
   "version": "3.12.3"
  }
 },
 "nbformat": 4,
 "nbformat_minor": 2
}
