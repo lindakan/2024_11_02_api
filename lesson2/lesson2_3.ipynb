{
 "cells": [
  {
   "cell_type": "code",
   "execution_count": 4,
   "metadata": {},
   "outputs": [
    {
     "name": "stdout",
     "output_type": "stream",
     "text": [
      "學生分數是:300分\n",
      "學生分數是:300分\n",
      "Application End\n"
     ]
    }
   ],
   "source": [
    "try:\n",
    "    scores = int(input('input score (top score is 300):'))\n",
    "except Exception:\n",
    "    print('發生錯誤')\n",
    "else:\n",
    "    is_add = input('meet condition (y,n):')\n",
    "    if is_add == 'y':\n",
    "        scores *= 1.05\n",
    "        if scores > 300:\n",
    "            scores = 300\n",
    "    print(\"學生分數是:\" + str(scores) + \"分\")   \n",
    "    print(f\"學生分數是:{scores}分\")     \n",
    "    \n",
    "    print(\"Application End\")"
   ]
  }
 ],
 "metadata": {
  "kernelspec": {
   "display_name": "base",
   "language": "python",
   "name": "python3"
  },
  "language_info": {
   "codemirror_mode": {
    "name": "ipython",
    "version": 3
   },
   "file_extension": ".py",
   "mimetype": "text/x-python",
   "name": "python",
   "nbconvert_exporter": "python",
   "pygments_lexer": "ipython3",
   "version": "3.12.3"
  }
 },
 "nbformat": 4,
 "nbformat_minor": 2
}
