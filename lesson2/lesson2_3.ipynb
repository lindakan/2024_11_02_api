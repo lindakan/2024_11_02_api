{
 "cells": [
  {
   "cell_type": "code",
   "execution_count": 4,
   "metadata": {},
   "outputs": [
    {
     "name": "stdout",
     "output_type": "stream",
     "text": [
      "學生分數是:300分\n",
      "學生分數是:300分\n",
      "Application End\n"
     ]
    }
   ],
   "source": [
    "try:\n",
    "    scores = int(input('input score (top score is 300):'))\n",
    "except Exception:\n",
    "    print('發生錯誤')\n",
    "else:\n",
    "    is_add = input('meet condition (y,n):')\n",
    "    if is_add == 'y':\n",
    "        scores *= 1.05\n",
    "        if scores > 300:\n",
    "            scores = 300\n",
    "    print(\"學生分數是:\" + str(scores) + \"分\")   \n",
    "    print(f\"學生分數是:{scores}分\")     \n",
    "    \n",
    "    print(\"Application End\")"
   ]
  },
  {
   "cell_type": "code",
   "execution_count": null,
   "metadata": {},
   "outputs": [
    {
     "name": "stdout",
     "output_type": "stream",
     "text": [
      "分數:90特優\n"
     ]
    }
   ],
   "source": [
    "#只執行一個\n",
    "try:\n",
    "    scores = int(input(\"請輸入分數:\"))\n",
    "except Exception:\n",
    "     print('發生錯誤')\n",
    "else:\n",
    "    if scores < 60:\n",
    "        print(\"不及格\")\n",
    "    else:\n",
    "        if scores < 80 :\n",
    "            print(f\"分數:{scores}及格\")\n",
    "        else:\n",
    "            print(f\"分數:{scores}特優\")\n",
    "                \n"
   ]
  },
  {
   "cell_type": "code",
   "execution_count": null,
   "metadata": {},
   "outputs": [
    {
     "name": "stdout",
     "output_type": "stream",
     "text": [
      "不及格\n"
     ]
    }
   ],
   "source": [
    "#只執行一個\n",
    "try:\n",
    "    scores = int(input(\"請輸入分數:\"))\n",
    "except Exception:\n",
    "     print('發生錯誤')\n",
    "else:\n",
    "    if scores < 60:\n",
    "        print(f\"分數:{scores}不及格\")\n",
    "    elif scores < 80 :\n",
    "        print(f\"分數:{scores}及格\")\n",
    "    else:\n",
    "        print(f\"分數:{scores}特優\")"
   ]
  },
  {
   "cell_type": "markdown",
   "metadata": {},
   "source": []
  },
  {
   "cell_type": "code",
   "execution_count": 13,
   "metadata": {},
   "outputs": [
    {
     "name": "stdout",
     "output_type": "stream",
     "text": [
      "分數:99為優\n"
     ]
    }
   ],
   "source": [
    "try:\n",
    "    scores = int(input(\"請輸入分數:\"))\n",
    "except Exception:\n",
    "     print('發生錯誤')\n",
    "else:\n",
    "    if scores >= 90 :\n",
    "        print(f\"分數:{scores}為優\")\n",
    "    elif scores >= 80 :\n",
    "        print(f\"分數:{scores}為甲\")\n",
    "    elif scores >= 70:\n",
    "        print(f\"分數:{scores}為乙\")\n",
    "    elif scores >= 60:\n",
    "        print(f\"分數:{scores}為丙\")\n",
    "    else:\n",
    "        print(f\"分數:{scores}為丁\")"
   ]
  },
  {
   "cell_type": "code",
   "execution_count": 16,
   "metadata": {},
   "outputs": [
    {
     "name": "stdout",
     "output_type": "stream",
     "text": [
      "獎金:500元\n"
     ]
    }
   ],
   "source": [
    "chinese = int(input(\"國文分數:\"))\n",
    "math = int(input(\"數學分數:\"))\n",
    "\n",
    "if chinese == 100 and math == 100:\n",
    "    bonus = 1000\n",
    "elif chinese == 100 or math == 100:\n",
    "    bonus = 500  \n",
    "else:\n",
    "    bonus = 0\n",
    "\n",
    "print(f\"獎金:{bonus}元\")"
   ]
  }
 ],
 "metadata": {
  "kernelspec": {
   "display_name": "base",
   "language": "python",
   "name": "python3"
  },
  "language_info": {
   "codemirror_mode": {
    "name": "ipython",
    "version": 3
   },
   "file_extension": ".py",
   "mimetype": "text/x-python",
   "name": "python",
   "nbconvert_exporter": "python",
   "pygments_lexer": "ipython3",
   "version": "3.12.3"
  }
 },
 "nbformat": 4,
 "nbformat_minor": 2
}
